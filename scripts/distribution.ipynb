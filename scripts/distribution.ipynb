{
 "cells": [
  {
   "cell_type": "code",
   "execution_count": 1,
   "id": "8d99004b",
   "metadata": {},
   "outputs": [],
   "source": [
    "import pandas as pd\n",
    "import matplotlib.pyplot as plt\n",
    "import seaborn as sns\n",
    "import numpy as np\n",
    "import polars as pl"
   ]
  },
  {
   "cell_type": "code",
   "execution_count": 4,
   "id": "808420d7",
   "metadata": {},
   "outputs": [],
   "source": [
    "M = pd.read_csv('/scratch/tsoies-DL/MixedGenomeAlignment_out/M_stats_df.csv')['M_statistics']"
   ]
  },
  {
   "cell_type": "code",
   "execution_count": 11,
   "id": "b030971f",
   "metadata": {},
   "outputs": [],
   "source": [
    "data = pl.read_csv('/datasets/tsoies-DL/chaika_data/single_cell_1A_cDNA/E250088063_L01_merged.csv', n_threads=10, use_pyarrow=True, has_header=False, new_columns = ['name', 'barcode'])"
   ]
  },
  {
   "cell_type": "code",
   "execution_count": 14,
   "id": "9e2d4fb0",
   "metadata": {},
   "outputs": [],
   "source": [
    "a = dict(data.iter_rows())"
   ]
  },
  {
   "cell_type": "code",
   "execution_count": null,
   "id": "e8c69d58",
   "metadata": {},
   "outputs": [],
   "source": []
  },
  {
   "cell_type": "code",
   "execution_count": 6,
   "id": "a427755a",
   "metadata": {},
   "outputs": [
    {
     "data": {
      "text/html": [
       "<div><style>\n",
       ".dataframe > thead > tr,\n",
       ".dataframe > tbody > tr {\n",
       "  text-align: right;\n",
       "  white-space: pre-wrap;\n",
       "}\n",
       "</style>\n",
       "<small>shape: (5, 2)</small><table border=\"1\" class=\"dataframe\"><thead><tr><th>E250088063L1C001R00300000002/1</th><th>CTTCTATCGACGACATCACAACGGCGTTGA</th></tr><tr><td>str</td><td>str</td></tr></thead><tbody><tr><td>&quot;E250088063L1C001R00300000014/1&quot;</td><td>&quot;AGGATTCTACAGACCGCGAATGAGTTTGTA&quot;</td></tr><tr><td>&quot;E250088063L1C001R00300000027/1&quot;</td><td>&quot;GATAATGATGATTATCGCCACGCTTGCTAT&quot;</td></tr><tr><td>&quot;E250088063L1C001R00300000028/1&quot;</td><td>&quot;GTGCCACCTGAGGCACTTGATCAGCTCATT&quot;</td></tr><tr><td>&quot;E250088063L1C001R00300000057/1&quot;</td><td>&quot;ATCCGGTGCCGCTTGACAATTTGGTACTGC&quot;</td></tr><tr><td>&quot;E250088063L1C001R00300000058/1&quot;</td><td>&quot;ATCCGGTGCCGCTTGACAATTTGGTACTGC&quot;</td></tr></tbody></table></div>"
      ],
      "text/plain": [
       "shape: (5, 2)\n",
       "┌────────────────────────────────┬────────────────────────────────┐\n",
       "│ E250088063L1C001R00300000002/1 ┆ CTTCTATCGACGACATCACAACGGCGTTGA │\n",
       "│ ---                            ┆ ---                            │\n",
       "│ str                            ┆ str                            │\n",
       "╞════════════════════════════════╪════════════════════════════════╡\n",
       "│ E250088063L1C001R00300000014/1 ┆ AGGATTCTACAGACCGCGAATGAGTTTGTA │\n",
       "│ E250088063L1C001R00300000027/1 ┆ GATAATGATGATTATCGCCACGCTTGCTAT │\n",
       "│ E250088063L1C001R00300000028/1 ┆ GTGCCACCTGAGGCACTTGATCAGCTCATT │\n",
       "│ E250088063L1C001R00300000057/1 ┆ ATCCGGTGCCGCTTGACAATTTGGTACTGC │\n",
       "│ E250088063L1C001R00300000058/1 ┆ ATCCGGTGCCGCTTGACAATTTGGTACTGC │\n",
       "└────────────────────────────────┴────────────────────────────────┘"
      ]
     },
     "execution_count": 6,
     "metadata": {},
     "output_type": "execute_result"
    }
   ],
   "source": [
    "data.head()"
   ]
  }
 ],
 "metadata": {
  "kernelspec": {
   "display_name": "rnaseq",
   "language": "python",
   "name": "python3"
  },
  "language_info": {
   "codemirror_mode": {
    "name": "ipython",
    "version": 3
   },
   "file_extension": ".py",
   "mimetype": "text/x-python",
   "name": "python",
   "nbconvert_exporter": "python",
   "pygments_lexer": "ipython3",
   "version": "3.13.5"
  }
 },
 "nbformat": 4,
 "nbformat_minor": 5
}
